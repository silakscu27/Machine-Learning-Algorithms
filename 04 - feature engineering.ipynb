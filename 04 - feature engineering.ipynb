{
 "cells": [
  {
   "cell_type": "markdown",
   "id": "de5b12f5-0d2a-4298-b21f-ce4b34e34f31",
   "metadata": {},
   "source": [
    "Feature Engineering"
   ]
  },
  {
   "cell_type": "code",
   "execution_count": 1,
   "id": "97a6ed6d-929d-4989-a3dd-64eb980cf326",
   "metadata": {},
   "outputs": [],
   "source": [
    "data = [{'grade':85, 'siblings':4, 'lessons':'math'},\n",
    "        {'grade':77, 'siblings':2, 'lessons':'che'},\n",
    "        {'grade':34, 'siblings':1, 'lessons':'bio'},\n",
    "        {'grade':92, 'siblings':3, 'lessons':'physics'}]"
   ]
  },
  {
   "cell_type": "code",
   "execution_count": 2,
   "id": "00ea2904-8876-4fa9-9bfe-79b1762505e8",
   "metadata": {},
   "outputs": [],
   "source": [
    "from sklearn.feature_extraction import DictVectorizer"
   ]
  },
  {
   "cell_type": "code",
   "execution_count": 3,
   "id": "eab581e3-8cd0-4bfd-ab4b-aae2613f5a95",
   "metadata": {},
   "outputs": [],
   "source": [
    "vec=DictVectorizer(sparse=False,dtype=int)"
   ]
  },
  {
   "cell_type": "code",
   "execution_count": 9,
   "id": "1524bab4-ab44-48dc-b6d2-769b03d7c4ea",
   "metadata": {},
   "outputs": [
    {
     "data": {
      "text/plain": [
       "array([[85,  0,  0,  1,  0,  4],\n",
       "       [77,  0,  1,  0,  0,  2],\n",
       "       [34,  1,  0,  0,  0,  1],\n",
       "       [92,  0,  0,  0,  1,  3]])"
      ]
     },
     "execution_count": 9,
     "metadata": {},
     "output_type": "execute_result"
    }
   ],
   "source": [
    "vec.fit_transform(data)"
   ]
  },
  {
   "cell_type": "code",
   "execution_count": 7,
   "id": "fb66eb12-2700-44c2-b562-717dd7d48a78",
   "metadata": {},
   "outputs": [],
   "source": [
    "feature_names = vec.get_feature_names_out()"
   ]
  },
  {
   "cell_type": "code",
   "execution_count": 8,
   "id": "3ba92fcd-2c53-4e8b-a0d4-65966ff956ce",
   "metadata": {},
   "outputs": [
    {
     "name": "stdout",
     "output_type": "stream",
     "text": [
      "['grade' 'lessons=bio' 'lessons=che' 'lessons=math' 'lessons=physics'\n",
      " 'siblings']\n"
     ]
    }
   ],
   "source": [
    "print(feature_names)"
   ]
  },
  {
   "cell_type": "code",
   "execution_count": 11,
   "id": "c1dfeb72-ec3c-482f-9b5d-c329470608a5",
   "metadata": {},
   "outputs": [
    {
     "data": {
      "text/plain": [
       "<4x6 sparse matrix of type '<class 'numpy.int32'>'\n",
       "\twith 12 stored elements in Compressed Sparse Row format>"
      ]
     },
     "execution_count": 11,
     "metadata": {},
     "output_type": "execute_result"
    }
   ],
   "source": [
    "vek=DictVectorizer(sparse=True,dtype=int)\n",
    "vek.fit_transform(data)"
   ]
  },
  {
   "cell_type": "code",
   "execution_count": 12,
   "id": "751d2e3b-45ee-442d-bfa6-02ebe266fe42",
   "metadata": {},
   "outputs": [],
   "source": [
    "datas=[\n",
    "    'The weather is nice',\n",
    "    'good people',\n",
    "    'the weather is bad'\n",
    "]"
   ]
  },
  {
   "cell_type": "code",
   "execution_count": 13,
   "id": "27cba01c-933c-4a5e-8fa6-840df6f3d9dd",
   "metadata": {},
   "outputs": [],
   "source": [
    "from sklearn.feature_extraction.text import CountVectorizer"
   ]
  },
  {
   "cell_type": "code",
   "execution_count": 14,
   "id": "15e460dc-99dd-4533-a8aa-529c16cfd8e5",
   "metadata": {},
   "outputs": [],
   "source": [
    "vek=CountVectorizer()"
   ]
  },
  {
   "cell_type": "code",
   "execution_count": 15,
   "id": "8a0a76ed-4358-4394-8ef8-950987c46e1d",
   "metadata": {},
   "outputs": [
    {
     "data": {
      "text/plain": [
       "<3x7 sparse matrix of type '<class 'numpy.int64'>'\n",
       "\twith 10 stored elements in Compressed Sparse Row format>"
      ]
     },
     "execution_count": 15,
     "metadata": {},
     "output_type": "execute_result"
    }
   ],
   "source": [
    "X=vek.fit_transform(datas)\n",
    "X"
   ]
  },
  {
   "cell_type": "code",
   "execution_count": 16,
   "id": "a1aa06fb-081b-4f13-8744-7729ab027f90",
   "metadata": {},
   "outputs": [],
   "source": [
    "import pandas as pd"
   ]
  },
  {
   "cell_type": "code",
   "execution_count": 18,
   "id": "327d19d8-9871-49ea-a4c3-9e60a495952f",
   "metadata": {},
   "outputs": [
    {
     "data": {
      "text/html": [
       "<div>\n",
       "<style scoped>\n",
       "    .dataframe tbody tr th:only-of-type {\n",
       "        vertical-align: middle;\n",
       "    }\n",
       "\n",
       "    .dataframe tbody tr th {\n",
       "        vertical-align: top;\n",
       "    }\n",
       "\n",
       "    .dataframe thead th {\n",
       "        text-align: right;\n",
       "    }\n",
       "</style>\n",
       "<table border=\"1\" class=\"dataframe\">\n",
       "  <thead>\n",
       "    <tr style=\"text-align: right;\">\n",
       "      <th></th>\n",
       "      <th>bad</th>\n",
       "      <th>good</th>\n",
       "      <th>is</th>\n",
       "      <th>nice</th>\n",
       "      <th>people</th>\n",
       "      <th>the</th>\n",
       "      <th>weather</th>\n",
       "    </tr>\n",
       "  </thead>\n",
       "  <tbody>\n",
       "    <tr>\n",
       "      <th>0</th>\n",
       "      <td>0</td>\n",
       "      <td>0</td>\n",
       "      <td>1</td>\n",
       "      <td>1</td>\n",
       "      <td>0</td>\n",
       "      <td>1</td>\n",
       "      <td>1</td>\n",
       "    </tr>\n",
       "    <tr>\n",
       "      <th>1</th>\n",
       "      <td>0</td>\n",
       "      <td>1</td>\n",
       "      <td>0</td>\n",
       "      <td>0</td>\n",
       "      <td>1</td>\n",
       "      <td>0</td>\n",
       "      <td>0</td>\n",
       "    </tr>\n",
       "    <tr>\n",
       "      <th>2</th>\n",
       "      <td>1</td>\n",
       "      <td>0</td>\n",
       "      <td>1</td>\n",
       "      <td>0</td>\n",
       "      <td>0</td>\n",
       "      <td>1</td>\n",
       "      <td>1</td>\n",
       "    </tr>\n",
       "  </tbody>\n",
       "</table>\n",
       "</div>"
      ],
      "text/plain": [
       "   bad  good  is  nice  people  the  weather\n",
       "0    0     0   1     1       0    1        1\n",
       "1    0     1   0     0       1    0        0\n",
       "2    1     0   1     0       0    1        1"
      ]
     },
     "execution_count": 18,
     "metadata": {},
     "output_type": "execute_result"
    }
   ],
   "source": [
    "pd.DataFrame(X.toarray(),columns=vek.get_feature_names_out())"
   ]
  },
  {
   "cell_type": "code",
   "execution_count": 19,
   "id": "901b13bc-cf79-4e93-8394-dbf0521865ac",
   "metadata": {},
   "outputs": [],
   "source": [
    "import numpy as np\n",
    "import matplotlib.pyplot as plt"
   ]
  },
  {
   "cell_type": "code",
   "execution_count": 20,
   "id": "44342cc9-c0f1-4966-bd24-1ef4743076d5",
   "metadata": {},
   "outputs": [],
   "source": [
    "x=np.array([1,2,3,4,5])\n",
    "y=np.array([5,3,1,2,7])"
   ]
  },
  {
   "cell_type": "code",
   "execution_count": 21,
   "id": "6541f994-70c1-42c0-a0ec-5b0bdcb1089a",
   "metadata": {},
   "outputs": [
    {
     "data": {
      "text/plain": [
       "<matplotlib.collections.PathCollection at 0x205e28c9370>"
      ]
     },
     "execution_count": 21,
     "metadata": {},
     "output_type": "execute_result"
    },
    {
     "data": {
      "image/png": "[encoded data removed]",
      "text/plain": [
       "<Figure size 640x480 with 1 Axes>"
      ]
     },
     "metadata": {},
     "output_type": "display_data"
    }
   ],
   "source": [
    "plt.scatter(x,y)"
   ]
  },
  {
   "cell_type": "code",
   "execution_count": 22,
   "id": "9f1fb4d8-ce3d-4952-bf63-0e3b2cf9e3ad",
   "metadata": {},
   "outputs": [],
   "source": [
    "from sklearn.linear_model import LinearRegression"
   ]
  },
  {
   "cell_type": "code",
   "execution_count": 23,
   "id": "adc2d880-7a83-4b9b-aaeb-f99e28621512",
   "metadata": {},
   "outputs": [],
   "source": [
    "X=x[:,np.newaxis]"
   ]
  },
  {
   "cell_type": "code",
   "execution_count": 24,
   "id": "cbb69780-02d0-47e4-b649-ae543df6b0f2",
   "metadata": {},
   "outputs": [],
   "source": [
    "model=LinearRegression().fit(X,y)"
   ]
  },
  {
   "cell_type": "code",
   "execution_count": 25,
   "id": "85946a5a-bf7d-4a7e-9d1d-3df93f606b83",
   "metadata": {},
   "outputs": [],
   "source": [
    "y_fit=model.predict(X)"
   ]
  },
  {
   "cell_type": "code",
   "execution_count": 26,
   "id": "8c7b7579-3235-481c-b7c0-627736ff5ed7",
   "metadata": {},
   "outputs": [
    {
     "data": {
      "text/plain": [
       "[<matplotlib.lines.Line2D at 0x205e4d5c190>]"
      ]
     },
     "execution_count": 26,
     "metadata": {},
     "output_type": "execute_result"
    },
    {
     "data": {
      "image/png": "[encoded data removed]",
      "text/plain": [
       "<Figure size 640x480 with 1 Axes>"
      ]
     },
     "metadata": {},
     "output_type": "display_data"
    }
   ],
   "source": [
    "plt.scatter(x,y)\n",
    "plt.plot(x,y_fit)"
   ]
  },
  {
   "cell_type": "code",
   "execution_count": 27,
   "id": "bbefa430-828d-4c4e-bcdc-e68c6124f04f",
   "metadata": {},
   "outputs": [],
   "source": [
    "from sklearn.preprocessing import PolynomialFeatures"
   ]
  },
  {
   "cell_type": "code",
   "execution_count": 28,
   "id": "a3b5c2a1-5374-4c2b-a9d4-50663cd82d4f",
   "metadata": {},
   "outputs": [],
   "source": [
    "pol=PolynomialFeatures(degree=3, include_bias=False)"
   ]
  },
  {
   "cell_type": "code",
   "execution_count": 29,
   "id": "7c9c0e24-1bc8-4bba-b043-29151e3cedf7",
   "metadata": {},
   "outputs": [
    {
     "data": {
      "text/plain": [
       "array([[  1.,   1.,   1.],\n",
       "       [  2.,   4.,   8.],\n",
       "       [  3.,   9.,  27.],\n",
       "       [  4.,  16.,  64.],\n",
       "       [  5.,  25., 125.]])"
      ]
     },
     "execution_count": 29,
     "metadata": {},
     "output_type": "execute_result"
    }
   ],
   "source": [
    "X2=pol.fit_transform(X)\n",
    "X2"
   ]
  },
  {
   "cell_type": "code",
   "execution_count": 30,
   "id": "bc486a28-c328-4a89-8100-cc40d797b489",
   "metadata": {},
   "outputs": [],
   "source": [
    "model=LinearRegression().fit(X2,y)"
   ]
  },
  {
   "cell_type": "code",
   "execution_count": 35,
   "id": "ea24be2b-c870-4fd6-9c6a-a923e60593af",
   "metadata": {},
   "outputs": [],
   "source": [
    "y_fit=model.predict(X2)"
   ]
  },
  {
   "cell_type": "code",
   "execution_count": 36,
   "id": "bd74aa1f-ee20-4197-82f7-ee9974bf374b",
   "metadata": {},
   "outputs": [
    {
     "data": {
      "text/plain": [
       "[<matplotlib.lines.Line2D at 0x205e80e0b80>]"
      ]
     },
     "execution_count": 36,
     "metadata": {},
     "output_type": "execute_result"
    },
    {
     "data": {
      "image/png": "[encoded data removed]",
      "text/plain": [
       "<Figure size 640x480 with 1 Axes>"
      ]
     },
     "metadata": {},
     "output_type": "display_data"
    }
   ],
   "source": [
    "plt.scatter(x,y)\n",
    "plt.plot(x,y_fit)"
   ]
  },
  {
   "cell_type": "code",
   "execution_count": 33,
   "id": "b4da9ddb-ed87-4516-87aa-767044fa9d41",
   "metadata": {},
   "outputs": [],
   "source": [
    "from numpy import nan"
   ]
  },
  {
   "cell_type": "code",
   "execution_count": 37,
   "id": "2568c6b2-7327-4f54-b56c-27cb009b0471",
   "metadata": {},
   "outputs": [],
   "source": [
    "X=np.array([[1,nan,3],\n",
    "          [5,6,9],\n",
    "          [4,5,2],\n",
    "          [4,6,nan],\n",
    "          [9,8,1]])\n",
    "\n",
    "y=np.array([10,13,-2,7,-6])"
   ]
  },
  {
   "cell_type": "code",
   "execution_count": 39,
   "id": "76a36b8d-c30f-4f66-8bea-01cc8b7c0ff9",
   "metadata": {},
   "outputs": [],
   "source": [
    "from sklearn.impute import SimpleImputer"
   ]
  },
  {
   "cell_type": "code",
   "execution_count": 41,
   "id": "2238fe18-7b8d-49d0-a552-8cb338ba033c",
   "metadata": {},
   "outputs": [],
   "source": [
    "imp=SimpleImputer(strategy='mean')"
   ]
  },
  {
   "cell_type": "code",
   "execution_count": 43,
   "id": "4e741134-9ee2-45ee-9d6f-d87035f80cfa",
   "metadata": {},
   "outputs": [
    {
     "data": {
      "text/plain": [
       "array([[1.  , 6.25, 3.  ],\n",
       "       [5.  , 6.  , 9.  ],\n",
       "       [4.  , 5.  , 2.  ],\n",
       "       [4.  , 6.  , 3.75],\n",
       "       [9.  , 8.  , 1.  ]])"
      ]
     },
     "execution_count": 43,
     "metadata": {},
     "output_type": "execute_result"
    }
   ],
   "source": [
    "X2=imp.fit_transform(X)\n",
    "X2"
   ]
  },
  {
   "cell_type": "code",
   "execution_count": 44,
   "id": "d2b57385-6d5b-4fa1-8712-d078ddba38ea",
   "metadata": {},
   "outputs": [
    {
     "data": {
      "text/plain": [
       "array([10.59852491, 13.45464873, -1.31399837,  4.99263952, -5.7318148 ])"
      ]
     },
     "execution_count": 44,
     "metadata": {},
     "output_type": "execute_result"
    }
   ],
   "source": [
    "model=LinearRegression().fit(X2,y)\n",
    "model.predict(X2)"
   ]
  },
  {
   "cell_type": "code",
   "execution_count": 45,
   "id": "312cebff-0bd6-4695-84df-8a16f6c46042",
   "metadata": {},
   "outputs": [],
   "source": [
    "from sklearn.pipeline import make_pipeline"
   ]
  },
  {
   "cell_type": "code",
   "execution_count": 47,
   "id": "13b0b990-4428-422f-bf81-8e422a58375d",
   "metadata": {},
   "outputs": [],
   "source": [
    "model=make_pipeline(SimpleImputer(strategy='mean'),\n",
    "                   PolynomialFeatures(degree=2),\n",
    "                   LinearRegression())"
   ]
  },
  {
   "cell_type": "code",
   "execution_count": 48,
   "id": "73c85d25-7351-4337-b498-d1b97a2cd989",
   "metadata": {},
   "outputs": [
    {
     "name": "stdout",
     "output_type": "stream",
     "text": [
      "[10 13 -2  7 -6]\n",
      "[10. 13. -2.  7. -6.]\n"
     ]
    }
   ],
   "source": [
    "model.fit(X,y)\n",
    "print(y)\n",
    "print(model.predict(X))"
   ]
  }
 ],
 "metadata": {
  "kernelspec": {
   "display_name": "Python 3 (ipykernel)",
   "language": "python",
   "name": "python3"
  },
  "language_info": {
   "codemirror_mode": {
    "name": "ipython",
    "version": 3
   },
   "file_extension": ".py",
   "mimetype": "text/x-python",
   "name": "python",
   "nbconvert_exporter": "python",
   "pygments_lexer": "ipython3",
   "version": "3.9.0"
  }
 },
 "nbformat": 4,
 "nbformat_minor": 5
}
